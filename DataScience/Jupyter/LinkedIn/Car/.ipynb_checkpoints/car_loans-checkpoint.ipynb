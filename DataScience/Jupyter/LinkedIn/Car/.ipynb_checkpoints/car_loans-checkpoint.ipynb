{
 "cells": [
  {
   "cell_type": "markdown",
   "id": "6f02a1b5-117d-485a-ae8a-5f68fb0c0fd3",
   "metadata": {
    "tags": [],
    "toc-hr-collapsed": true
   },
   "source": [
    "## Link to course\n",
    "### https://www.linkedin.com/learning/python-for-data-visualization-2023/basics-of-matplotlib?autoSkip=true&resume=false&u=36836804"
   ]
  },
  {
   "cell_type": "code",
   "execution_count": 12,
   "id": "a272715a-782e-4bcf-9c9e-bf0a912829c2",
   "metadata": {
    "tags": []
   },
   "outputs": [],
   "source": [
    "import numpy as np\n",
    "import pandas as pd"
   ]
  },
  {
   "cell_type": "markdown",
   "id": "09ac0b1c-d6e2-417f-a12d-09054350ffcd",
   "metadata": {
    "tags": []
   },
   "source": [
    "## Read data"
   ]
  },
  {
   "cell_type": "code",
   "execution_count": 13,
   "id": "eecc6eda-be0f-4bd8-8130-c8c2255a899f",
   "metadata": {
    "tags": []
   },
   "outputs": [
    {
     "data": {
      "text/html": [
       "<div>\n",
       "<style scoped>\n",
       "    .dataframe tbody tr th:only-of-type {\n",
       "        vertical-align: middle;\n",
       "    }\n",
       "\n",
       "    .dataframe tbody tr th {\n",
       "        vertical-align: top;\n",
       "    }\n",
       "\n",
       "    .dataframe thead th {\n",
       "        text-align: right;\n",
       "    }\n",
       "</style>\n",
       "<table border=\"1\" class=\"dataframe\">\n",
       "  <thead>\n",
       "    <tr style=\"text-align: right;\">\n",
       "      <th></th>\n",
       "      <th>Month</th>\n",
       "      <th>Starting Balance</th>\n",
       "      <th>Repayment</th>\n",
       "      <th>Interest Paid</th>\n",
       "      <th>Principal Paid</th>\n",
       "      <th>New Balance</th>\n",
       "      <th>term</th>\n",
       "      <th>interest_rate</th>\n",
       "      <th>car_type</th>\n",
       "    </tr>\n",
       "  </thead>\n",
       "  <tbody>\n",
       "    <tr>\n",
       "      <th>0</th>\n",
       "      <td>1</td>\n",
       "      <td>34689.96</td>\n",
       "      <td>687.23</td>\n",
       "      <td>202.93</td>\n",
       "      <td>484.30</td>\n",
       "      <td>34205.66</td>\n",
       "      <td>60.0</td>\n",
       "      <td>0.0702</td>\n",
       "      <td>Toyota Sienna</td>\n",
       "    </tr>\n",
       "    <tr>\n",
       "      <th>1</th>\n",
       "      <td>2</td>\n",
       "      <td>34205.66</td>\n",
       "      <td>687.23</td>\n",
       "      <td>200.10</td>\n",
       "      <td>487.13</td>\n",
       "      <td>33718.53</td>\n",
       "      <td>60.0</td>\n",
       "      <td>0.0702</td>\n",
       "      <td>Toyota Sienna</td>\n",
       "    </tr>\n",
       "    <tr>\n",
       "      <th>2</th>\n",
       "      <td>3</td>\n",
       "      <td>33718.53</td>\n",
       "      <td>687.23</td>\n",
       "      <td>197.25</td>\n",
       "      <td>489.98</td>\n",
       "      <td>33228.55</td>\n",
       "      <td>60.0</td>\n",
       "      <td>0.0702</td>\n",
       "      <td>Toyota Sienna</td>\n",
       "    </tr>\n",
       "    <tr>\n",
       "      <th>3</th>\n",
       "      <td>4</td>\n",
       "      <td>33228.55</td>\n",
       "      <td>687.23</td>\n",
       "      <td>194.38</td>\n",
       "      <td>492.85</td>\n",
       "      <td>32735.70</td>\n",
       "      <td>60.0</td>\n",
       "      <td>0.0702</td>\n",
       "      <td>Toyota Sienna</td>\n",
       "    </tr>\n",
       "    <tr>\n",
       "      <th>4</th>\n",
       "      <td>5</td>\n",
       "      <td>32735.70</td>\n",
       "      <td>687.23</td>\n",
       "      <td>NaN</td>\n",
       "      <td>495.73</td>\n",
       "      <td>32239.97</td>\n",
       "      <td>60.0</td>\n",
       "      <td>0.0702</td>\n",
       "      <td>Toyota Sienna</td>\n",
       "    </tr>\n",
       "    <tr>\n",
       "      <th>...</th>\n",
       "      <td>...</td>\n",
       "      <td>...</td>\n",
       "      <td>...</td>\n",
       "      <td>...</td>\n",
       "      <td>...</td>\n",
       "      <td>...</td>\n",
       "      <td>...</td>\n",
       "      <td>...</td>\n",
       "      <td>...</td>\n",
       "    </tr>\n",
       "    <tr>\n",
       "      <th>403</th>\n",
       "      <td>56</td>\n",
       "      <td>3951.11</td>\n",
       "      <td>796.01</td>\n",
       "      <td>9.54</td>\n",
       "      <td>786.47</td>\n",
       "      <td>3164.64</td>\n",
       "      <td>60.0</td>\n",
       "      <td>0.0290</td>\n",
       "      <td>VW Golf R</td>\n",
       "    </tr>\n",
       "    <tr>\n",
       "      <th>404</th>\n",
       "      <td>57</td>\n",
       "      <td>3164.64</td>\n",
       "      <td>796.01</td>\n",
       "      <td>7.64</td>\n",
       "      <td>788.37</td>\n",
       "      <td>2376.27</td>\n",
       "      <td>60.0</td>\n",
       "      <td>0.0290</td>\n",
       "      <td>VW Golf R</td>\n",
       "    </tr>\n",
       "    <tr>\n",
       "      <th>405</th>\n",
       "      <td>58</td>\n",
       "      <td>2376.27</td>\n",
       "      <td>796.01</td>\n",
       "      <td>5.74</td>\n",
       "      <td>790.27</td>\n",
       "      <td>1586.00</td>\n",
       "      <td>60.0</td>\n",
       "      <td>0.0290</td>\n",
       "      <td>VW Golf R</td>\n",
       "    </tr>\n",
       "    <tr>\n",
       "      <th>406</th>\n",
       "      <td>59</td>\n",
       "      <td>1586.00</td>\n",
       "      <td>796.01</td>\n",
       "      <td>3.83</td>\n",
       "      <td>792.18</td>\n",
       "      <td>793.82</td>\n",
       "      <td>60.0</td>\n",
       "      <td>0.0290</td>\n",
       "      <td>VW Golf R</td>\n",
       "    </tr>\n",
       "    <tr>\n",
       "      <th>407</th>\n",
       "      <td>60</td>\n",
       "      <td>793.82</td>\n",
       "      <td>796.01</td>\n",
       "      <td>1.91</td>\n",
       "      <td>794.10</td>\n",
       "      <td>-0.28</td>\n",
       "      <td>60.0</td>\n",
       "      <td>0.0290</td>\n",
       "      <td>VW Golf R</td>\n",
       "    </tr>\n",
       "  </tbody>\n",
       "</table>\n",
       "<p>408 rows × 9 columns</p>\n",
       "</div>"
      ],
      "text/plain": [
       "     Month  Starting Balance  Repayment  Interest Paid  Principal Paid  \\\n",
       "0        1          34689.96     687.23         202.93          484.30   \n",
       "1        2          34205.66     687.23         200.10          487.13   \n",
       "2        3          33718.53     687.23         197.25          489.98   \n",
       "3        4          33228.55     687.23         194.38          492.85   \n",
       "4        5          32735.70     687.23            NaN          495.73   \n",
       "..     ...               ...        ...            ...             ...   \n",
       "403     56           3951.11     796.01           9.54          786.47   \n",
       "404     57           3164.64     796.01           7.64          788.37   \n",
       "405     58           2376.27     796.01           5.74          790.27   \n",
       "406     59           1586.00     796.01           3.83          792.18   \n",
       "407     60            793.82     796.01           1.91          794.10   \n",
       "\n",
       "     New Balance  term  interest_rate       car_type  \n",
       "0       34205.66  60.0         0.0702  Toyota Sienna  \n",
       "1       33718.53  60.0         0.0702  Toyota Sienna  \n",
       "2       33228.55  60.0         0.0702  Toyota Sienna  \n",
       "3       32735.70  60.0         0.0702  Toyota Sienna  \n",
       "4       32239.97  60.0         0.0702  Toyota Sienna  \n",
       "..           ...   ...            ...            ...  \n",
       "403      3164.64  60.0         0.0290      VW Golf R  \n",
       "404      2376.27  60.0         0.0290      VW Golf R  \n",
       "405      1586.00  60.0         0.0290      VW Golf R  \n",
       "406       793.82  60.0         0.0290      VW Golf R  \n",
       "407        -0.28  60.0         0.0290      VW Golf R  \n",
       "\n",
       "[408 rows x 9 columns]"
      ]
     },
     "execution_count": 13,
     "metadata": {},
     "output_type": "execute_result"
    }
   ],
   "source": [
    "data = pd.read_csv('/Users/cemakay/DataScience/Jupyter/LinkedIn/Car/data/car_financing.csv')\n",
    "data"
   ]
  },
  {
   "cell_type": "markdown",
   "id": "91e681ca",
   "metadata": {},
   "source": [
    "## Slicing"
   ]
  },
  {
   "cell_type": "code",
   "execution_count": 14,
   "id": "946e341a-0d5c-4239-9637-ad20cea6fff8",
   "metadata": {
    "tags": []
   },
   "outputs": [
    {
     "data": {
      "text/html": [
       "<div>\n",
       "<style scoped>\n",
       "    .dataframe tbody tr th:only-of-type {\n",
       "        vertical-align: middle;\n",
       "    }\n",
       "\n",
       "    .dataframe tbody tr th {\n",
       "        vertical-align: top;\n",
       "    }\n",
       "\n",
       "    .dataframe thead th {\n",
       "        text-align: right;\n",
       "    }\n",
       "</style>\n",
       "<table border=\"1\" class=\"dataframe\">\n",
       "  <thead>\n",
       "    <tr style=\"text-align: right;\">\n",
       "      <th></th>\n",
       "      <th>Starting Balance</th>\n",
       "    </tr>\n",
       "  </thead>\n",
       "  <tbody>\n",
       "    <tr>\n",
       "      <th>0</th>\n",
       "      <td>34689.96</td>\n",
       "    </tr>\n",
       "    <tr>\n",
       "      <th>1</th>\n",
       "      <td>34205.66</td>\n",
       "    </tr>\n",
       "    <tr>\n",
       "      <th>2</th>\n",
       "      <td>33718.53</td>\n",
       "    </tr>\n",
       "    <tr>\n",
       "      <th>3</th>\n",
       "      <td>33228.55</td>\n",
       "    </tr>\n",
       "    <tr>\n",
       "      <th>4</th>\n",
       "      <td>32735.70</td>\n",
       "    </tr>\n",
       "    <tr>\n",
       "      <th>5</th>\n",
       "      <td>32239.97</td>\n",
       "    </tr>\n",
       "    <tr>\n",
       "      <th>6</th>\n",
       "      <td>31741.34</td>\n",
       "    </tr>\n",
       "    <tr>\n",
       "      <th>7</th>\n",
       "      <td>31239.79</td>\n",
       "    </tr>\n",
       "    <tr>\n",
       "      <th>8</th>\n",
       "      <td>30735.31</td>\n",
       "    </tr>\n",
       "    <tr>\n",
       "      <th>9</th>\n",
       "      <td>30227.88</td>\n",
       "    </tr>\n",
       "  </tbody>\n",
       "</table>\n",
       "</div>"
      ],
      "text/plain": [
       "   Starting Balance\n",
       "0          34689.96\n",
       "1          34205.66\n",
       "2          33718.53\n",
       "3          33228.55\n",
       "4          32735.70\n",
       "5          32239.97\n",
       "6          31741.34\n",
       "7          31239.79\n",
       "8          30735.31\n",
       "9          30227.88"
      ]
     },
     "execution_count": 14,
     "metadata": {},
     "output_type": "execute_result"
    }
   ],
   "source": [
    "data[data.columns[[1]]][0:10]"
   ]
  },
  {
   "cell_type": "code",
   "execution_count": 15,
   "id": "b0587f20-3fbd-42f0-9e0c-c778471d65cc",
   "metadata": {
    "tags": []
   },
   "outputs": [
    {
     "data": {
      "text/html": [
       "<div>\n",
       "<style scoped>\n",
       "    .dataframe tbody tr th:only-of-type {\n",
       "        vertical-align: middle;\n",
       "    }\n",
       "\n",
       "    .dataframe tbody tr th {\n",
       "        vertical-align: top;\n",
       "    }\n",
       "\n",
       "    .dataframe thead th {\n",
       "        text-align: right;\n",
       "    }\n",
       "</style>\n",
       "<table border=\"1\" class=\"dataframe\">\n",
       "  <thead>\n",
       "    <tr style=\"text-align: right;\">\n",
       "      <th></th>\n",
       "      <th>Starting Balance</th>\n",
       "    </tr>\n",
       "  </thead>\n",
       "  <tbody>\n",
       "    <tr>\n",
       "      <th>0</th>\n",
       "      <td>34689.96</td>\n",
       "    </tr>\n",
       "    <tr>\n",
       "      <th>1</th>\n",
       "      <td>34205.66</td>\n",
       "    </tr>\n",
       "    <tr>\n",
       "      <th>2</th>\n",
       "      <td>33718.53</td>\n",
       "    </tr>\n",
       "    <tr>\n",
       "      <th>3</th>\n",
       "      <td>33228.55</td>\n",
       "    </tr>\n",
       "    <tr>\n",
       "      <th>4</th>\n",
       "      <td>32735.70</td>\n",
       "    </tr>\n",
       "    <tr>\n",
       "      <th>5</th>\n",
       "      <td>32239.97</td>\n",
       "    </tr>\n",
       "    <tr>\n",
       "      <th>6</th>\n",
       "      <td>31741.34</td>\n",
       "    </tr>\n",
       "    <tr>\n",
       "      <th>7</th>\n",
       "      <td>31239.79</td>\n",
       "    </tr>\n",
       "    <tr>\n",
       "      <th>8</th>\n",
       "      <td>30735.31</td>\n",
       "    </tr>\n",
       "    <tr>\n",
       "      <th>9</th>\n",
       "      <td>30227.88</td>\n",
       "    </tr>\n",
       "  </tbody>\n",
       "</table>\n",
       "</div>"
      ],
      "text/plain": [
       "   Starting Balance\n",
       "0          34689.96\n",
       "1          34205.66\n",
       "2          33718.53\n",
       "3          33228.55\n",
       "4          32735.70\n",
       "5          32239.97\n",
       "6          31741.34\n",
       "7          31239.79\n",
       "8          30735.31\n",
       "9          30227.88"
      ]
     },
     "execution_count": 15,
     "metadata": {},
     "output_type": "execute_result"
    }
   ],
   "source": [
    "data.loc[:9 , ['Starting Balance']]"
   ]
  },
  {
   "cell_type": "markdown",
   "id": "fdc5e790-90a4-424a-9aac-eb1a31cf114b",
   "metadata": {},
   "source": [
    "## Filtering"
   ]
  },
  {
   "cell_type": "code",
   "execution_count": 16,
   "id": "949a39c8-9d0c-4bf5-9b0c-5855904ca1a9",
   "metadata": {
    "tags": []
   },
   "outputs": [
    {
     "data": {
      "text/html": [
       "<div>\n",
       "<style scoped>\n",
       "    .dataframe tbody tr th:only-of-type {\n",
       "        vertical-align: middle;\n",
       "    }\n",
       "\n",
       "    .dataframe tbody tr th {\n",
       "        vertical-align: top;\n",
       "    }\n",
       "\n",
       "    .dataframe thead th {\n",
       "        text-align: right;\n",
       "    }\n",
       "</style>\n",
       "<table border=\"1\" class=\"dataframe\">\n",
       "  <thead>\n",
       "    <tr style=\"text-align: right;\">\n",
       "      <th></th>\n",
       "      <th>Month</th>\n",
       "      <th>Starting Balance</th>\n",
       "      <th>Repayment</th>\n",
       "      <th>Interest Paid</th>\n",
       "      <th>Principal Paid</th>\n",
       "      <th>New Balance</th>\n",
       "      <th>term</th>\n",
       "      <th>interest_rate</th>\n",
       "      <th>car_type</th>\n",
       "    </tr>\n",
       "  </thead>\n",
       "  <tbody>\n",
       "    <tr>\n",
       "      <th>264</th>\n",
       "      <td>1</td>\n",
       "      <td>44409.60</td>\n",
       "      <td>1289.53</td>\n",
       "      <td>107.32</td>\n",
       "      <td>1182.21</td>\n",
       "      <td>43227.39</td>\n",
       "      <td>36.0</td>\n",
       "      <td>0.029</td>\n",
       "      <td>VW Golf R</td>\n",
       "    </tr>\n",
       "    <tr>\n",
       "      <th>265</th>\n",
       "      <td>2</td>\n",
       "      <td>43227.39</td>\n",
       "      <td>1289.53</td>\n",
       "      <td>104.46</td>\n",
       "      <td>1185.07</td>\n",
       "      <td>42042.32</td>\n",
       "      <td>36.0</td>\n",
       "      <td>0.029</td>\n",
       "      <td>VW Golf R</td>\n",
       "    </tr>\n",
       "    <tr>\n",
       "      <th>266</th>\n",
       "      <td>3</td>\n",
       "      <td>42042.32</td>\n",
       "      <td>1289.53</td>\n",
       "      <td>101.60</td>\n",
       "      <td>1187.93</td>\n",
       "      <td>40854.39</td>\n",
       "      <td>36.0</td>\n",
       "      <td>0.029</td>\n",
       "      <td>VW Golf R</td>\n",
       "    </tr>\n",
       "    <tr>\n",
       "      <th>267</th>\n",
       "      <td>4</td>\n",
       "      <td>40854.39</td>\n",
       "      <td>1289.53</td>\n",
       "      <td>98.73</td>\n",
       "      <td>1190.80</td>\n",
       "      <td>39663.59</td>\n",
       "      <td>36.0</td>\n",
       "      <td>0.029</td>\n",
       "      <td>VW Golf R</td>\n",
       "    </tr>\n",
       "    <tr>\n",
       "      <th>268</th>\n",
       "      <td>5</td>\n",
       "      <td>39663.59</td>\n",
       "      <td>1289.53</td>\n",
       "      <td>95.85</td>\n",
       "      <td>1193.68</td>\n",
       "      <td>38469.91</td>\n",
       "      <td>36.0</td>\n",
       "      <td>0.029</td>\n",
       "      <td>VW Golf R</td>\n",
       "    </tr>\n",
       "    <tr>\n",
       "      <th>...</th>\n",
       "      <td>...</td>\n",
       "      <td>...</td>\n",
       "      <td>...</td>\n",
       "      <td>...</td>\n",
       "      <td>...</td>\n",
       "      <td>...</td>\n",
       "      <td>...</td>\n",
       "      <td>...</td>\n",
       "      <td>...</td>\n",
       "    </tr>\n",
       "    <tr>\n",
       "      <th>403</th>\n",
       "      <td>56</td>\n",
       "      <td>3951.11</td>\n",
       "      <td>796.01</td>\n",
       "      <td>9.54</td>\n",
       "      <td>786.47</td>\n",
       "      <td>3164.64</td>\n",
       "      <td>60.0</td>\n",
       "      <td>0.029</td>\n",
       "      <td>VW Golf R</td>\n",
       "    </tr>\n",
       "    <tr>\n",
       "      <th>404</th>\n",
       "      <td>57</td>\n",
       "      <td>3164.64</td>\n",
       "      <td>796.01</td>\n",
       "      <td>7.64</td>\n",
       "      <td>788.37</td>\n",
       "      <td>2376.27</td>\n",
       "      <td>60.0</td>\n",
       "      <td>0.029</td>\n",
       "      <td>VW Golf R</td>\n",
       "    </tr>\n",
       "    <tr>\n",
       "      <th>405</th>\n",
       "      <td>58</td>\n",
       "      <td>2376.27</td>\n",
       "      <td>796.01</td>\n",
       "      <td>5.74</td>\n",
       "      <td>790.27</td>\n",
       "      <td>1586.00</td>\n",
       "      <td>60.0</td>\n",
       "      <td>0.029</td>\n",
       "      <td>VW Golf R</td>\n",
       "    </tr>\n",
       "    <tr>\n",
       "      <th>406</th>\n",
       "      <td>59</td>\n",
       "      <td>1586.00</td>\n",
       "      <td>796.01</td>\n",
       "      <td>3.83</td>\n",
       "      <td>792.18</td>\n",
       "      <td>793.82</td>\n",
       "      <td>60.0</td>\n",
       "      <td>0.029</td>\n",
       "      <td>VW Golf R</td>\n",
       "    </tr>\n",
       "    <tr>\n",
       "      <th>407</th>\n",
       "      <td>60</td>\n",
       "      <td>793.82</td>\n",
       "      <td>796.01</td>\n",
       "      <td>1.91</td>\n",
       "      <td>794.10</td>\n",
       "      <td>-0.28</td>\n",
       "      <td>60.0</td>\n",
       "      <td>0.029</td>\n",
       "      <td>VW Golf R</td>\n",
       "    </tr>\n",
       "  </tbody>\n",
       "</table>\n",
       "<p>144 rows × 9 columns</p>\n",
       "</div>"
      ],
      "text/plain": [
       "     Month  Starting Balance  Repayment  Interest Paid  Principal Paid  \\\n",
       "264      1          44409.60    1289.53         107.32         1182.21   \n",
       "265      2          43227.39    1289.53         104.46         1185.07   \n",
       "266      3          42042.32    1289.53         101.60         1187.93   \n",
       "267      4          40854.39    1289.53          98.73         1190.80   \n",
       "268      5          39663.59    1289.53          95.85         1193.68   \n",
       "..     ...               ...        ...            ...             ...   \n",
       "403     56           3951.11     796.01           9.54          786.47   \n",
       "404     57           3164.64     796.01           7.64          788.37   \n",
       "405     58           2376.27     796.01           5.74          790.27   \n",
       "406     59           1586.00     796.01           3.83          792.18   \n",
       "407     60            793.82     796.01           1.91          794.10   \n",
       "\n",
       "     New Balance  term  interest_rate   car_type  \n",
       "264     43227.39  36.0          0.029  VW Golf R  \n",
       "265     42042.32  36.0          0.029  VW Golf R  \n",
       "266     40854.39  36.0          0.029  VW Golf R  \n",
       "267     39663.59  36.0          0.029  VW Golf R  \n",
       "268     38469.91  36.0          0.029  VW Golf R  \n",
       "..           ...   ...            ...        ...  \n",
       "403      3164.64  60.0          0.029  VW Golf R  \n",
       "404      2376.27  60.0          0.029  VW Golf R  \n",
       "405      1586.00  60.0          0.029  VW Golf R  \n",
       "406       793.82  60.0          0.029  VW Golf R  \n",
       "407        -0.28  60.0          0.029  VW Golf R  \n",
       "\n",
       "[144 rows x 9 columns]"
      ]
     },
     "execution_count": 16,
     "metadata": {},
     "output_type": "execute_result"
    }
   ],
   "source": [
    "data[(data.interest_rate == 0.0290) & (data.car_type == 'VW Golf R')]\n"
   ]
  },
  {
   "cell_type": "code",
   "execution_count": 17,
   "id": "e990fde2-c34f-463b-bc6f-b49b7687e492",
   "metadata": {
    "tags": []
   },
   "outputs": [
    {
     "data": {
      "text/plain": [
       "8042.85"
      ]
     },
     "execution_count": 17,
     "metadata": {},
     "output_type": "execute_result"
    }
   ],
   "source": [
    "carfilter = data.car_type == 'VW Golf R'\n",
    "intfilter = data.interest_rate == 0.0290\n",
    "\n",
    "subset = data.loc[carfilter&intfilter,:]\n",
    "subset['Interest Paid'].sum()"
   ]
  },
  {
   "cell_type": "markdown",
   "id": "8d0903c0-9c04-4ca2-8fe2-0578c2c02aaf",
   "metadata": {},
   "source": [
    "## Rename columns"
   ]
  },
  {
   "cell_type": "code",
   "execution_count": 18,
   "id": "82ff76c9-6dbd-4c35-b5cc-9efbb0bb9713",
   "metadata": {
    "tags": []
   },
   "outputs": [],
   "source": [
    "data = data.rename(columns={\n",
    "                    data.columns[1]: 'starting_balance',\n",
    "                    data.columns[3]: 'interest_paid',\n",
    "                    data.columns[4]: 'principal_paid',\n",
    "                    data.columns[5]: 'new_balance'})\n"
   ]
  },
  {
   "cell_type": "code",
   "execution_count": 19,
   "id": "73dd574b-376a-4652-b053-96ab60ed6eb2",
   "metadata": {
    "tags": []
   },
   "outputs": [],
   "source": [
    "# list method to rename\n",
    "data.columns = ['month', 'starting_balance', 'Repayment', 'interest_paid',\n",
    "       'principal_paid', 'new_balance', 'term', 'interest_rate', 'car_type']"
   ]
  },
  {
   "cell_type": "markdown",
   "id": "0b4a18e9-bad4-45df-a655-3ee713addfcb",
   "metadata": {},
   "source": [
    "## Aggregate functions"
   ]
  },
  {
   "cell_type": "code",
   "execution_count": 20,
   "id": "cf3fef06-c734-4863-b115-529f04e8d1c5",
   "metadata": {
    "tags": []
   },
   "outputs": [
    {
     "data": {
      "text/html": [
       "<div>\n",
       "<style scoped>\n",
       "    .dataframe tbody tr th:only-of-type {\n",
       "        vertical-align: middle;\n",
       "    }\n",
       "\n",
       "    .dataframe tbody tr th {\n",
       "        vertical-align: top;\n",
       "    }\n",
       "\n",
       "    .dataframe thead th {\n",
       "        text-align: right;\n",
       "    }\n",
       "</style>\n",
       "<table border=\"1\" class=\"dataframe\">\n",
       "  <thead>\n",
       "    <tr style=\"text-align: right;\">\n",
       "      <th></th>\n",
       "      <th>starting_balance</th>\n",
       "      <th>Repayment</th>\n",
       "    </tr>\n",
       "  </thead>\n",
       "  <tbody>\n",
       "    <tr>\n",
       "      <th>min</th>\n",
       "      <td>395.410000</td>\n",
       "      <td>396.82</td>\n",
       "    </tr>\n",
       "    <tr>\n",
       "      <th>max</th>\n",
       "      <td>44409.600000</td>\n",
       "      <td>1289.53</td>\n",
       "    </tr>\n",
       "    <tr>\n",
       "      <th>mean</th>\n",
       "      <td>17562.870343</td>\n",
       "      <td>Not used</td>\n",
       "    </tr>\n",
       "  </tbody>\n",
       "</table>\n",
       "</div>"
      ],
      "text/plain": [
       "      starting_balance Repayment\n",
       "min         395.410000    396.82\n",
       "max       44409.600000   1289.53\n",
       "mean      17562.870343  Not used"
      ]
     },
     "execution_count": 20,
     "metadata": {},
     "output_type": "execute_result"
    }
   ],
   "source": [
    "data.agg({'starting_balance': ['min', 'max', 'mean'],\n",
    "         'Repayment': ['min', 'max']}).fillna('Not used')\n",
    "          "
   ]
  },
  {
   "cell_type": "code",
   "execution_count": 21,
   "id": "1204a940-b436-4d21-8df4-b2d25444c5e6",
   "metadata": {
    "tags": []
   },
   "outputs": [
    {
     "data": {
      "text/html": [
       "<div>\n",
       "<style scoped>\n",
       "    .dataframe tbody tr th:only-of-type {\n",
       "        vertical-align: middle;\n",
       "    }\n",
       "\n",
       "    .dataframe tbody tr th {\n",
       "        vertical-align: top;\n",
       "    }\n",
       "\n",
       "    .dataframe thead th {\n",
       "        text-align: right;\n",
       "    }\n",
       "</style>\n",
       "<table border=\"1\" class=\"dataframe\">\n",
       "  <thead>\n",
       "    <tr style=\"text-align: right;\">\n",
       "      <th></th>\n",
       "      <th>interest_paid</th>\n",
       "    </tr>\n",
       "    <tr>\n",
       "      <th>car_type</th>\n",
       "      <th></th>\n",
       "    </tr>\n",
       "  </thead>\n",
       "  <tbody>\n",
       "    <tr>\n",
       "      <th>Toyota Carolla</th>\n",
       "      <td>4066.53</td>\n",
       "    </tr>\n",
       "    <tr>\n",
       "      <th>Toyota Corolla</th>\n",
       "      <td>1229.00</td>\n",
       "    </tr>\n",
       "    <tr>\n",
       "      <th>Toyota Sienna</th>\n",
       "      <td>9349.74</td>\n",
       "    </tr>\n",
       "    <tr>\n",
       "      <th>VW Golf R</th>\n",
       "      <td>8042.85</td>\n",
       "    </tr>\n",
       "    <tr>\n",
       "      <th>Total</th>\n",
       "      <td>22688.12</td>\n",
       "    </tr>\n",
       "  </tbody>\n",
       "</table>\n",
       "</div>"
      ],
      "text/plain": [
       "                interest_paid\n",
       "car_type                     \n",
       "Toyota Carolla        4066.53\n",
       "Toyota Corolla        1229.00\n",
       "Toyota Sienna         9349.74\n",
       "VW Golf R             8042.85\n",
       "Total                22688.12"
      ]
     },
     "execution_count": 21,
     "metadata": {},
     "output_type": "execute_result"
    }
   ],
   "source": [
    "interest_paid = data.groupby(data.car_type)[['interest_paid']].sum()\n",
    "interest_paid.loc['Total'] = interest_paid.interest_paid.sum()\n",
    "interest_paid"
   ]
  },
  {
   "cell_type": "code",
   "execution_count": 22,
   "id": "3c9f6b48-6864-4236-acc1-c23406c16f72",
   "metadata": {
    "tags": []
   },
   "outputs": [
    {
     "data": {
      "text/plain": [
       "month                                                           11004\n",
       "starting_balance                                            7165651.1\n",
       "Repayment                                                   290550.72\n",
       "interest_paid                                                22688.12\n",
       "principal_paid                                              267410.95\n",
       "new_balance                                                6898240.15\n",
       "term                                                          21480.0\n",
       "interest_rate                                                  16.158\n",
       "car_type            Toyota SiennaToyota SiennaToyota SiennaToyota ...\n",
       "dtype: object"
      ]
     },
     "execution_count": 22,
     "metadata": {},
     "output_type": "execute_result"
    }
   ],
   "source": [
    "data.sum()"
   ]
  },
  {
   "cell_type": "markdown",
   "id": "a3652e32-99cf-4988-8f79-b9226ccf6982",
   "metadata": {},
   "source": [
    "## Missing values "
   ]
  },
  {
   "cell_type": "code",
   "execution_count": 23,
   "id": "faf27bf0-201a-48b9-aaba-ab2ebaa0c765",
   "metadata": {
    "tags": []
   },
   "outputs": [
    {
     "name": "stdout",
     "output_type": "stream",
     "text": [
      "<class 'pandas.core.frame.DataFrame'>\n",
      "RangeIndex: 408 entries, 0 to 407\n",
      "Data columns (total 9 columns):\n",
      " #   Column            Non-Null Count  Dtype  \n",
      "---  ------            --------------  -----  \n",
      " 0   month             408 non-null    int64  \n",
      " 1   starting_balance  408 non-null    float64\n",
      " 2   Repayment         408 non-null    float64\n",
      " 3   interest_paid     405 non-null    float64\n",
      " 4   principal_paid    408 non-null    float64\n",
      " 5   new_balance       408 non-null    float64\n",
      " 6   term              406 non-null    float64\n",
      " 7   interest_rate     408 non-null    float64\n",
      " 8   car_type          408 non-null    object \n",
      "dtypes: float64(7), int64(1), object(1)\n",
      "memory usage: 28.8+ KB\n"
     ]
    }
   ],
   "source": [
    "#Overview of all columns\n",
    "data.info()"
   ]
  },
  {
   "cell_type": "code",
   "execution_count": 24,
   "id": "9b2d0be8-8bd9-4f02-ade7-23cf0321e2cd",
   "metadata": {
    "tags": []
   },
   "outputs": [
    {
     "data": {
      "text/plain": [
       "0      False\n",
       "1      False\n",
       "2      False\n",
       "3      False\n",
       "4      False\n",
       "       ...  \n",
       "403    False\n",
       "404    False\n",
       "405    False\n",
       "406    False\n",
       "407    False\n",
       "Name: term, Length: 408, dtype: bool"
      ]
     },
     "execution_count": 24,
     "metadata": {},
     "output_type": "execute_result"
    }
   ],
   "source": [
    "#Detect where thic condition is True\n",
    "nanterm = data.term.isna()\n",
    "nanterm"
   ]
  },
  {
   "cell_type": "code",
   "execution_count": 25,
   "id": "25d6da98-f932-4106-b1fd-ac1326a39697",
   "metadata": {
    "tags": []
   },
   "outputs": [
    {
     "data": {
      "text/html": [
       "<div>\n",
       "<style scoped>\n",
       "    .dataframe tbody tr th:only-of-type {\n",
       "        vertical-align: middle;\n",
       "    }\n",
       "\n",
       "    .dataframe tbody tr th {\n",
       "        vertical-align: top;\n",
       "    }\n",
       "\n",
       "    .dataframe thead th {\n",
       "        text-align: right;\n",
       "    }\n",
       "</style>\n",
       "<table border=\"1\" class=\"dataframe\">\n",
       "  <thead>\n",
       "    <tr style=\"text-align: right;\">\n",
       "      <th></th>\n",
       "      <th>month</th>\n",
       "      <th>starting_balance</th>\n",
       "      <th>Repayment</th>\n",
       "      <th>interest_paid</th>\n",
       "      <th>principal_paid</th>\n",
       "      <th>new_balance</th>\n",
       "      <th>term</th>\n",
       "      <th>interest_rate</th>\n",
       "      <th>car_type</th>\n",
       "    </tr>\n",
       "  </thead>\n",
       "  <tbody>\n",
       "    <tr>\n",
       "      <th>6</th>\n",
       "      <td>7</td>\n",
       "      <td>31741.34</td>\n",
       "      <td>687.23</td>\n",
       "      <td>185.68</td>\n",
       "      <td>501.55</td>\n",
       "      <td>31239.79</td>\n",
       "      <td>NaN</td>\n",
       "      <td>0.0702</td>\n",
       "      <td>Toyota Sienna</td>\n",
       "    </tr>\n",
       "    <tr>\n",
       "      <th>14</th>\n",
       "      <td>15</td>\n",
       "      <td>27645.84</td>\n",
       "      <td>687.23</td>\n",
       "      <td>161.72</td>\n",
       "      <td>525.51</td>\n",
       "      <td>27120.33</td>\n",
       "      <td>NaN</td>\n",
       "      <td>0.0702</td>\n",
       "      <td>Toyota Sienna</td>\n",
       "    </tr>\n",
       "  </tbody>\n",
       "</table>\n",
       "</div>"
      ],
      "text/plain": [
       "    month  starting_balance  Repayment  interest_paid  principal_paid  \\\n",
       "6       7          31741.34     687.23         185.68          501.55   \n",
       "14     15          27645.84     687.23         161.72          525.51   \n",
       "\n",
       "    new_balance  term  interest_rate       car_type  \n",
       "6      31239.79   NaN         0.0702  Toyota Sienna  \n",
       "14     27120.33   NaN         0.0702  Toyota Sienna  "
      ]
     },
     "execution_count": 25,
     "metadata": {},
     "output_type": "execute_result"
    }
   ],
   "source": [
    "# see rows with null values\n",
    "data.loc[nanterm, :]"
   ]
  },
  {
   "cell_type": "code",
   "execution_count": 26,
   "id": "c0f37a21-2a94-43be-a879-eb6eb61052d2",
   "metadata": {
    "tags": []
   },
   "outputs": [
    {
     "data": {
      "text/html": [
       "<div>\n",
       "<style scoped>\n",
       "    .dataframe tbody tr th:only-of-type {\n",
       "        vertical-align: middle;\n",
       "    }\n",
       "\n",
       "    .dataframe tbody tr th {\n",
       "        vertical-align: top;\n",
       "    }\n",
       "\n",
       "    .dataframe thead th {\n",
       "        text-align: right;\n",
       "    }\n",
       "</style>\n",
       "<table border=\"1\" class=\"dataframe\">\n",
       "  <thead>\n",
       "    <tr style=\"text-align: right;\">\n",
       "      <th></th>\n",
       "      <th>month</th>\n",
       "      <th>starting_balance</th>\n",
       "      <th>Repayment</th>\n",
       "      <th>interest_paid</th>\n",
       "      <th>principal_paid</th>\n",
       "      <th>new_balance</th>\n",
       "      <th>term</th>\n",
       "      <th>interest_rate</th>\n",
       "      <th>car_type</th>\n",
       "    </tr>\n",
       "  </thead>\n",
       "  <tbody>\n",
       "    <tr>\n",
       "      <th>6</th>\n",
       "      <td>7</td>\n",
       "      <td>31741.34</td>\n",
       "      <td>687.23</td>\n",
       "      <td>185.68</td>\n",
       "      <td>501.55</td>\n",
       "      <td>31239.79</td>\n",
       "      <td>NaN</td>\n",
       "      <td>0.0702</td>\n",
       "      <td>Toyota Sienna</td>\n",
       "    </tr>\n",
       "    <tr>\n",
       "      <th>14</th>\n",
       "      <td>15</td>\n",
       "      <td>27645.84</td>\n",
       "      <td>687.23</td>\n",
       "      <td>161.72</td>\n",
       "      <td>525.51</td>\n",
       "      <td>27120.33</td>\n",
       "      <td>NaN</td>\n",
       "      <td>0.0702</td>\n",
       "      <td>Toyota Sienna</td>\n",
       "    </tr>\n",
       "  </tbody>\n",
       "</table>\n",
       "</div>"
      ],
      "text/plain": [
       "    month  starting_balance  Repayment  interest_paid  principal_paid  \\\n",
       "6       7          31741.34     687.23         185.68          501.55   \n",
       "14     15          27645.84     687.23         161.72          525.51   \n",
       "\n",
       "    new_balance  term  interest_rate       car_type  \n",
       "6      31239.79   NaN         0.0702  Toyota Sienna  \n",
       "14     27120.33   NaN         0.0702  Toyota Sienna  "
      ]
     },
     "execution_count": 26,
     "metadata": {},
     "output_type": "execute_result"
    }
   ],
   "source": [
    "#another method\n",
    "data[data.term.isnull()]"
   ]
  },
  {
   "cell_type": "code",
   "execution_count": 27,
   "id": "0f555638-8ca8-4d52-b0bd-da6f15adbfa1",
   "metadata": {
    "tags": []
   },
   "outputs": [
    {
     "data": {
      "text/html": [
       "<div>\n",
       "<style scoped>\n",
       "    .dataframe tbody tr th:only-of-type {\n",
       "        vertical-align: middle;\n",
       "    }\n",
       "\n",
       "    .dataframe tbody tr th {\n",
       "        vertical-align: top;\n",
       "    }\n",
       "\n",
       "    .dataframe thead th {\n",
       "        text-align: right;\n",
       "    }\n",
       "</style>\n",
       "<table border=\"1\" class=\"dataframe\">\n",
       "  <thead>\n",
       "    <tr style=\"text-align: right;\">\n",
       "      <th></th>\n",
       "      <th>month</th>\n",
       "      <th>starting_balance</th>\n",
       "      <th>Repayment</th>\n",
       "      <th>interest_paid</th>\n",
       "      <th>principal_paid</th>\n",
       "      <th>new_balance</th>\n",
       "      <th>term</th>\n",
       "      <th>interest_rate</th>\n",
       "      <th>car_type</th>\n",
       "    </tr>\n",
       "  </thead>\n",
       "  <tbody>\n",
       "    <tr>\n",
       "      <th>4</th>\n",
       "      <td>5</td>\n",
       "      <td>32735.70</td>\n",
       "      <td>687.23</td>\n",
       "      <td>NaN</td>\n",
       "      <td>495.73</td>\n",
       "      <td>32239.97</td>\n",
       "      <td>60.0</td>\n",
       "      <td>0.0702</td>\n",
       "      <td>Toyota Sienna</td>\n",
       "    </tr>\n",
       "    <tr>\n",
       "      <th>6</th>\n",
       "      <td>7</td>\n",
       "      <td>31741.34</td>\n",
       "      <td>687.23</td>\n",
       "      <td>185.68</td>\n",
       "      <td>501.55</td>\n",
       "      <td>31239.79</td>\n",
       "      <td>NaN</td>\n",
       "      <td>0.0702</td>\n",
       "      <td>Toyota Sienna</td>\n",
       "    </tr>\n",
       "    <tr>\n",
       "      <th>14</th>\n",
       "      <td>15</td>\n",
       "      <td>27645.84</td>\n",
       "      <td>687.23</td>\n",
       "      <td>161.72</td>\n",
       "      <td>525.51</td>\n",
       "      <td>27120.33</td>\n",
       "      <td>NaN</td>\n",
       "      <td>0.0702</td>\n",
       "      <td>Toyota Sienna</td>\n",
       "    </tr>\n",
       "    <tr>\n",
       "      <th>21</th>\n",
       "      <td>22</td>\n",
       "      <td>23902.11</td>\n",
       "      <td>687.23</td>\n",
       "      <td>NaN</td>\n",
       "      <td>547.41</td>\n",
       "      <td>23354.70</td>\n",
       "      <td>60.0</td>\n",
       "      <td>0.0702</td>\n",
       "      <td>Toyota Sienna</td>\n",
       "    </tr>\n",
       "    <tr>\n",
       "      <th>27</th>\n",
       "      <td>28</td>\n",
       "      <td>20569.25</td>\n",
       "      <td>687.23</td>\n",
       "      <td>NaN</td>\n",
       "      <td>566.90</td>\n",
       "      <td>20002.35</td>\n",
       "      <td>60.0</td>\n",
       "      <td>0.0702</td>\n",
       "      <td>Toyota Sienna</td>\n",
       "    </tr>\n",
       "  </tbody>\n",
       "</table>\n",
       "</div>"
      ],
      "text/plain": [
       "    month  starting_balance  Repayment  interest_paid  principal_paid  \\\n",
       "4       5          32735.70     687.23            NaN          495.73   \n",
       "6       7          31741.34     687.23         185.68          501.55   \n",
       "14     15          27645.84     687.23         161.72          525.51   \n",
       "21     22          23902.11     687.23            NaN          547.41   \n",
       "27     28          20569.25     687.23            NaN          566.90   \n",
       "\n",
       "    new_balance  term  interest_rate       car_type  \n",
       "4      32239.97  60.0         0.0702  Toyota Sienna  \n",
       "6      31239.79   NaN         0.0702  Toyota Sienna  \n",
       "14     27120.33   NaN         0.0702  Toyota Sienna  \n",
       "21     23354.70  60.0         0.0702  Toyota Sienna  \n",
       "27     20002.35  60.0         0.0702  Toyota Sienna  "
      ]
     },
     "execution_count": 27,
     "metadata": {},
     "output_type": "execute_result"
    }
   ],
   "source": [
    "#another method\n",
    "data[data.isnull().any(axis=1)]"
   ]
  },
  {
   "cell_type": "code",
   "execution_count": 28,
   "id": "fa1e1853-913b-4a63-a6ed-1a8db7b5c5e5",
   "metadata": {
    "tags": []
   },
   "outputs": [
    {
     "data": {
      "text/html": [
       "<div>\n",
       "<style scoped>\n",
       "    .dataframe tbody tr th:only-of-type {\n",
       "        vertical-align: middle;\n",
       "    }\n",
       "\n",
       "    .dataframe tbody tr th {\n",
       "        vertical-align: top;\n",
       "    }\n",
       "\n",
       "    .dataframe thead th {\n",
       "        text-align: right;\n",
       "    }\n",
       "</style>\n",
       "<table border=\"1\" class=\"dataframe\">\n",
       "  <thead>\n",
       "    <tr style=\"text-align: right;\">\n",
       "      <th></th>\n",
       "      <th>month</th>\n",
       "      <th>starting_balance</th>\n",
       "      <th>Repayment</th>\n",
       "      <th>interest_paid</th>\n",
       "      <th>principal_paid</th>\n",
       "      <th>new_balance</th>\n",
       "      <th>term</th>\n",
       "      <th>interest_rate</th>\n",
       "      <th>car_type</th>\n",
       "    </tr>\n",
       "  </thead>\n",
       "  <tbody>\n",
       "    <tr>\n",
       "      <th>299</th>\n",
       "      <td>36</td>\n",
       "      <td>1286.21</td>\n",
       "      <td>1289.53</td>\n",
       "      <td>3.10</td>\n",
       "      <td>1286.43</td>\n",
       "      <td>-0.22</td>\n",
       "      <td>36.0</td>\n",
       "      <td>0.029</td>\n",
       "      <td>VW Golf R</td>\n",
       "    </tr>\n",
       "    <tr>\n",
       "      <th>346</th>\n",
       "      <td>47</td>\n",
       "      <td>1954.47</td>\n",
       "      <td>981.02</td>\n",
       "      <td>4.72</td>\n",
       "      <td>976.30</td>\n",
       "      <td>978.17</td>\n",
       "      <td>48.0</td>\n",
       "      <td>0.029</td>\n",
       "      <td>VW Golf R</td>\n",
       "    </tr>\n",
       "    <tr>\n",
       "      <th>347</th>\n",
       "      <td>48</td>\n",
       "      <td>978.17</td>\n",
       "      <td>981.02</td>\n",
       "      <td>2.36</td>\n",
       "      <td>978.66</td>\n",
       "      <td>-0.49</td>\n",
       "      <td>48.0</td>\n",
       "      <td>0.029</td>\n",
       "      <td>VW Golf R</td>\n",
       "    </tr>\n",
       "    <tr>\n",
       "      <th>406</th>\n",
       "      <td>59</td>\n",
       "      <td>1586.00</td>\n",
       "      <td>796.01</td>\n",
       "      <td>3.83</td>\n",
       "      <td>792.18</td>\n",
       "      <td>793.82</td>\n",
       "      <td>60.0</td>\n",
       "      <td>0.029</td>\n",
       "      <td>VW Golf R</td>\n",
       "    </tr>\n",
       "    <tr>\n",
       "      <th>407</th>\n",
       "      <td>60</td>\n",
       "      <td>793.82</td>\n",
       "      <td>796.01</td>\n",
       "      <td>1.91</td>\n",
       "      <td>794.10</td>\n",
       "      <td>-0.28</td>\n",
       "      <td>60.0</td>\n",
       "      <td>0.029</td>\n",
       "      <td>VW Golf R</td>\n",
       "    </tr>\n",
       "  </tbody>\n",
       "</table>\n",
       "</div>"
      ],
      "text/plain": [
       "     month  starting_balance  Repayment  interest_paid  principal_paid  \\\n",
       "299     36           1286.21    1289.53           3.10         1286.43   \n",
       "346     47           1954.47     981.02           4.72          976.30   \n",
       "347     48            978.17     981.02           2.36          978.66   \n",
       "406     59           1586.00     796.01           3.83          792.18   \n",
       "407     60            793.82     796.01           1.91          794.10   \n",
       "\n",
       "     new_balance  term  interest_rate   car_type  \n",
       "299        -0.22  36.0          0.029  VW Golf R  \n",
       "346       978.17  48.0          0.029  VW Golf R  \n",
       "347        -0.49  48.0          0.029  VW Golf R  \n",
       "406       793.82  60.0          0.029  VW Golf R  \n",
       "407        -0.28  60.0          0.029  VW Golf R  "
      ]
     },
     "execution_count": 28,
     "metadata": {},
     "output_type": "execute_result"
    }
   ],
   "source": [
    "#Multiple boolean conditions\n",
    "pay = data.interest_paid < 10\n",
    "newbal = data.new_balance < 1000\n",
    "intrate = data.interest_rate == 0.0290\n",
    "\n",
    "data.loc[pay&newbal&intrate,:]"
   ]
  },
  {
   "cell_type": "markdown",
   "id": "afbaa6ff-6a48-4a07-bb95-5d34eeb3ad79",
   "metadata": {},
   "source": [
    "## Remove or fill missing data/values"
   ]
  },
  {
   "cell_type": "code",
   "execution_count": 29,
   "id": "b9ecf9e0-1c30-4fba-8e6b-dd43641454ef",
   "metadata": {
    "tags": []
   },
   "outputs": [],
   "source": [
    "#fill with the value just after the null value \n",
    "data.term = data.term.fillna(data.term.bfill())"
   ]
  },
  {
   "cell_type": "code",
   "execution_count": 30,
   "id": "28d799d1-16b0-4778-bcf8-7922c6bb9b76",
   "metadata": {
    "tags": []
   },
   "outputs": [],
   "source": [
    "data.interest_paid = data.interest_paid.interpolate()"
   ]
  },
  {
   "cell_type": "markdown",
   "id": "3ee4a9cc-1833-4982-8713-ade3fccd115b",
   "metadata": {},
   "source": [
    "## Convert Pandas DataFrames"
   ]
  },
  {
   "cell_type": "code",
   "execution_count": 31,
   "id": "ac764821-c41e-4689-8205-8278f55e1348",
   "metadata": {
    "tags": []
   },
   "outputs": [
    {
     "data": {
      "text/plain": [
       "pandas.core.frame.DataFrame"
      ]
     },
     "execution_count": 31,
     "metadata": {},
     "output_type": "execute_result"
    }
   ],
   "source": [
    "cal = pd.read_csv('/Users/cemakay/Downloads/calories.csv')\n",
    "type(cal)"
   ]
  },
  {
   "cell_type": "code",
   "execution_count": 32,
   "id": "3e5d6f3f-a3d4-4619-bfd6-e6a034196ea4",
   "metadata": {
    "tags": []
   },
   "outputs": [],
   "source": [
    "tonumpy = cal.values # to numpy"
   ]
  },
  {
   "cell_type": "code",
   "execution_count": 33,
   "id": "8231329e-c6e5-4a57-b8fe-ae644a87737a",
   "metadata": {
    "tags": []
   },
   "outputs": [],
   "source": [
    "tonump = cal.to_numpy() # to numpy"
   ]
  },
  {
   "cell_type": "code",
   "execution_count": 34,
   "id": "c47bc6e7-4bc4-4e38-9fc2-5c7842a1b535",
   "metadata": {
    "tags": []
   },
   "outputs": [],
   "source": [
    "caltotict = cal.to_dict()"
   ]
  },
  {
   "cell_type": "markdown",
   "id": "2d974697-6c0e-444d-ab1e-f6aaf61ac476",
   "metadata": {},
   "source": [
    "## Export DataFrames"
   ]
  },
  {
   "cell_type": "code",
   "execution_count": 35,
   "id": "6988d973-4084-4402-aba6-e0f1af4b9594",
   "metadata": {
    "tags": []
   },
   "outputs": [],
   "source": [
    "# can use to_csv or to_excel"
   ]
  },
  {
   "cell_type": "markdown",
   "id": "184642bd-6549-4938-9427-eeca27859b2c",
   "metadata": {},
   "source": [
    "## Matplotlib"
   ]
  },
  {
   "cell_type": "code",
   "execution_count": 36,
   "id": "e6143be4-3ae0-430a-96ca-019ed47609f0",
   "metadata": {
    "tags": []
   },
   "outputs": [],
   "source": [
    "import matplotlib.pyplot as plt\n",
    "import seaborn as sns"
   ]
  },
  {
   "cell_type": "code",
   "execution_count": 37,
   "id": "8d4d7846-003c-459a-b174-91b9aed3a88e",
   "metadata": {
    "tags": []
   },
   "outputs": [
    {
     "data": {
      "text/plain": [
       "numpy.ndarray"
      ]
     },
     "execution_count": 37,
     "metadata": {},
     "output_type": "execute_result"
    }
   ],
   "source": [
    "mo = data.month.values\n",
    "type(mo)"
   ]
  },
  {
   "cell_type": "code",
   "execution_count": 38,
   "id": "039f1b4f-32a8-4fdc-84b8-e158b697eddc",
   "metadata": {
    "tags": []
   },
   "outputs": [
    {
     "data": {
      "text/plain": [
       "['Solarize_Light2',\n",
       " '_classic_test_patch',\n",
       " '_mpl-gallery',\n",
       " '_mpl-gallery-nogrid',\n",
       " 'bmh',\n",
       " 'classic',\n",
       " 'dark_background',\n",
       " 'fast',\n",
       " 'fivethirtyeight',\n",
       " 'ggplot',\n",
       " 'grayscale',\n",
       " 'seaborn-v0_8',\n",
       " 'seaborn-v0_8-bright',\n",
       " 'seaborn-v0_8-colorblind',\n",
       " 'seaborn-v0_8-dark',\n",
       " 'seaborn-v0_8-dark-palette',\n",
       " 'seaborn-v0_8-darkgrid',\n",
       " 'seaborn-v0_8-deep',\n",
       " 'seaborn-v0_8-muted',\n",
       " 'seaborn-v0_8-notebook',\n",
       " 'seaborn-v0_8-paper',\n",
       " 'seaborn-v0_8-pastel',\n",
       " 'seaborn-v0_8-poster',\n",
       " 'seaborn-v0_8-talk',\n",
       " 'seaborn-v0_8-ticks',\n",
       " 'seaborn-v0_8-white',\n",
       " 'seaborn-v0_8-whitegrid',\n",
       " 'tableau-colorblind10']"
      ]
     },
     "execution_count": 38,
     "metadata": {},
     "output_type": "execute_result"
    }
   ],
   "source": [
    "plt.style.available"
   ]
  },
  {
   "cell_type": "code",
   "execution_count": 39,
   "id": "8a5ab47c-a64c-40b2-bf5f-1c0917bbf30c",
   "metadata": {
    "tags": []
   },
   "outputs": [],
   "source": [
    "plt.style.use('classic')"
   ]
  },
  {
   "cell_type": "code",
   "execution_count": null,
   "id": "7ee3e22e-3aa2-4171-8697-11b3eb78e909",
   "metadata": {},
   "outputs": [],
   "source": []
  },
  {
   "cell_type": "code",
   "execution_count": null,
   "id": "0faa510a-b5a4-49e7-837f-1bb8352f8d25",
   "metadata": {},
   "outputs": [],
   "source": []
  }
 ],
 "metadata": {
  "kernelspec": {
   "display_name": "Python 3 (ipykernel)",
   "language": "python",
   "name": "python3"
  },
  "language_info": {
   "codemirror_mode": {
    "name": "ipython",
    "version": 3
   },
   "file_extension": ".py",
   "mimetype": "text/x-python",
   "name": "python",
   "nbconvert_exporter": "python",
   "pygments_lexer": "ipython3",
   "version": "3.11.7"
  },
  "toc-autonumbering": true,
  "toc-showmarkdowntxt": false,
  "toc-showtags": false
 },
 "nbformat": 4,
 "nbformat_minor": 5
}
