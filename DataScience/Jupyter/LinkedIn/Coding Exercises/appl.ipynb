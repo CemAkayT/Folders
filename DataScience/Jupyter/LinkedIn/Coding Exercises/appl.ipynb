{
 "cells": [
  {
   "cell_type": "code",
   "execution_count": 1,
   "id": "d1a8c417-abbc-4945-b1e9-89c14face8ec",
   "metadata": {},
   "outputs": [],
   "source": [
    "import pandas as pd\n",
    "import yfinance as yf\n",
    "import datetime "
   ]
  },
  {
   "cell_type": "code",
   "execution_count": 2,
   "id": "44c1b35e-a667-4ac3-a395-a31d867ccd3e",
   "metadata": {},
   "outputs": [
    {
     "name": "stderr",
     "output_type": "stream",
     "text": [
      "[*********************100%%**********************]  1 of 1 completed\n"
     ]
    }
   ],
   "source": [
    "stock = 'AAPL'\n",
    "start = datetime.date(2001,2,1)\n",
    "end = datetime.date(2025,5,21)\n",
    "\n",
    "data = yf.download(stock, start=start, end=end)"
   ]
  },
  {
   "cell_type": "code",
   "execution_count": 6,
   "id": "f2290318-8d0b-403e-902a-e6b1d1f94951",
   "metadata": {},
   "outputs": [
    {
     "data": {
      "text/html": [
       "<div>\n",
       "<style scoped>\n",
       "    .dataframe tbody tr th:only-of-type {\n",
       "        vertical-align: middle;\n",
       "    }\n",
       "\n",
       "    .dataframe tbody tr th {\n",
       "        vertical-align: top;\n",
       "    }\n",
       "\n",
       "    .dataframe thead th {\n",
       "        text-align: right;\n",
       "    }\n",
       "</style>\n",
       "<table border=\"1\" class=\"dataframe\">\n",
       "  <thead>\n",
       "    <tr style=\"text-align: right;\">\n",
       "      <th></th>\n",
       "      <th>Open</th>\n",
       "      <th>High</th>\n",
       "      <th>Low</th>\n",
       "      <th>Close</th>\n",
       "      <th>Adj Close</th>\n",
       "      <th>Volume</th>\n",
       "    </tr>\n",
       "    <tr>\n",
       "      <th>Date</th>\n",
       "      <th></th>\n",
       "      <th></th>\n",
       "      <th></th>\n",
       "      <th></th>\n",
       "      <th></th>\n",
       "      <th></th>\n",
       "    </tr>\n",
       "  </thead>\n",
       "  <tbody>\n",
       "    <tr>\n",
       "      <th>2001-02-01</th>\n",
       "      <td>0.369420</td>\n",
       "      <td>0.383929</td>\n",
       "      <td>0.366071</td>\n",
       "      <td>0.377232</td>\n",
       "      <td>0.318932</td>\n",
       "      <td>369695200</td>\n",
       "    </tr>\n",
       "    <tr>\n",
       "      <th>2001-02-02</th>\n",
       "      <td>0.377232</td>\n",
       "      <td>0.391741</td>\n",
       "      <td>0.366071</td>\n",
       "      <td>0.368304</td>\n",
       "      <td>0.311384</td>\n",
       "      <td>427341600</td>\n",
       "    </tr>\n",
       "    <tr>\n",
       "      <th>2001-02-05</th>\n",
       "      <td>0.366071</td>\n",
       "      <td>0.367188</td>\n",
       "      <td>0.352679</td>\n",
       "      <td>0.360491</td>\n",
       "      <td>0.304778</td>\n",
       "      <td>286115200</td>\n",
       "    </tr>\n",
       "    <tr>\n",
       "      <th>2001-02-06</th>\n",
       "      <td>0.359933</td>\n",
       "      <td>0.381975</td>\n",
       "      <td>0.357143</td>\n",
       "      <td>0.377232</td>\n",
       "      <td>0.318932</td>\n",
       "      <td>462711200</td>\n",
       "    </tr>\n",
       "    <tr>\n",
       "      <th>2001-02-07</th>\n",
       "      <td>0.368862</td>\n",
       "      <td>0.372768</td>\n",
       "      <td>0.353795</td>\n",
       "      <td>0.370536</td>\n",
       "      <td>0.313271</td>\n",
       "      <td>393887200</td>\n",
       "    </tr>\n",
       "    <tr>\n",
       "      <th>...</th>\n",
       "      <td>...</td>\n",
       "      <td>...</td>\n",
       "      <td>...</td>\n",
       "      <td>...</td>\n",
       "      <td>...</td>\n",
       "      <td>...</td>\n",
       "    </tr>\n",
       "    <tr>\n",
       "      <th>2024-05-15</th>\n",
       "      <td>187.910004</td>\n",
       "      <td>190.649994</td>\n",
       "      <td>187.369995</td>\n",
       "      <td>189.720001</td>\n",
       "      <td>189.720001</td>\n",
       "      <td>70400000</td>\n",
       "    </tr>\n",
       "    <tr>\n",
       "      <th>2024-05-16</th>\n",
       "      <td>190.470001</td>\n",
       "      <td>191.100006</td>\n",
       "      <td>189.660004</td>\n",
       "      <td>189.839996</td>\n",
       "      <td>189.839996</td>\n",
       "      <td>52845200</td>\n",
       "    </tr>\n",
       "    <tr>\n",
       "      <th>2024-05-17</th>\n",
       "      <td>189.509995</td>\n",
       "      <td>190.809998</td>\n",
       "      <td>189.179993</td>\n",
       "      <td>189.869995</td>\n",
       "      <td>189.869995</td>\n",
       "      <td>41282900</td>\n",
       "    </tr>\n",
       "    <tr>\n",
       "      <th>2024-05-20</th>\n",
       "      <td>189.330002</td>\n",
       "      <td>191.919998</td>\n",
       "      <td>189.009995</td>\n",
       "      <td>191.039993</td>\n",
       "      <td>191.039993</td>\n",
       "      <td>44323200</td>\n",
       "    </tr>\n",
       "    <tr>\n",
       "      <th>2024-05-21</th>\n",
       "      <td>191.089996</td>\n",
       "      <td>192.589996</td>\n",
       "      <td>190.920105</td>\n",
       "      <td>192.195007</td>\n",
       "      <td>192.195007</td>\n",
       "      <td>11535316</td>\n",
       "    </tr>\n",
       "  </tbody>\n",
       "</table>\n",
       "<p>5862 rows × 6 columns</p>\n",
       "</div>"
      ],
      "text/plain": [
       "                  Open        High         Low       Close   Adj Close  \\\n",
       "Date                                                                     \n",
       "2001-02-01    0.369420    0.383929    0.366071    0.377232    0.318932   \n",
       "2001-02-02    0.377232    0.391741    0.366071    0.368304    0.311384   \n",
       "2001-02-05    0.366071    0.367188    0.352679    0.360491    0.304778   \n",
       "2001-02-06    0.359933    0.381975    0.357143    0.377232    0.318932   \n",
       "2001-02-07    0.368862    0.372768    0.353795    0.370536    0.313271   \n",
       "...                ...         ...         ...         ...         ...   \n",
       "2024-05-15  187.910004  190.649994  187.369995  189.720001  189.720001   \n",
       "2024-05-16  190.470001  191.100006  189.660004  189.839996  189.839996   \n",
       "2024-05-17  189.509995  190.809998  189.179993  189.869995  189.869995   \n",
       "2024-05-20  189.330002  191.919998  189.009995  191.039993  191.039993   \n",
       "2024-05-21  191.089996  192.589996  190.920105  192.195007  192.195007   \n",
       "\n",
       "               Volume  \n",
       "Date                   \n",
       "2001-02-01  369695200  \n",
       "2001-02-02  427341600  \n",
       "2001-02-05  286115200  \n",
       "2001-02-06  462711200  \n",
       "2001-02-07  393887200  \n",
       "...               ...  \n",
       "2024-05-15   70400000  \n",
       "2024-05-16   52845200  \n",
       "2024-05-17   41282900  \n",
       "2024-05-20   44323200  \n",
       "2024-05-21   11535316  \n",
       "\n",
       "[5862 rows x 6 columns]"
      ]
     },
     "execution_count": 6,
     "metadata": {},
     "output_type": "execute_result"
    }
   ],
   "source": [
    "data"
   ]
  },
  {
   "cell_type": "code",
   "execution_count": null,
   "id": "64999101-da78-4993-88b7-6423d543f5cf",
   "metadata": {},
   "outputs": [],
   "source": [
    "data = data.iloc[: , 3]"
   ]
  },
  {
   "cell_type": "code",
   "execution_count": null,
   "id": "387bd4dc-ee9a-4516-83ed-c8c779b93ecb",
   "metadata": {},
   "outputs": [],
   "source": [
    "data = data.reset_index()"
   ]
  },
  {
   "cell_type": "code",
   "execution_count": null,
   "id": "0e5dddb5-1fa7-4072-af63-c809ac3a5b99",
   "metadata": {},
   "outputs": [],
   "source": [
    "data.set_index('Date', inplace=True)"
   ]
  },
  {
   "cell_type": "code",
   "execution_count": null,
   "id": "d442706c-f318-4e1e-b3ff-4cd4c2408dbb",
   "metadata": {},
   "outputs": [],
   "source": [
    "data"
   ]
  },
  {
   "cell_type": "code",
   "execution_count": null,
   "id": "6ec2b81b-1377-4221-918e-a1cba7b9a69f",
   "metadata": {},
   "outputs": [],
   "source": [
    "year_end_price = data.groupby(pd.Grouper(freq='YE')).last()\n",
    "year_end_price['Yearly Return'] = year_end_price.Close.pct_change()"
   ]
  },
  {
   "cell_type": "code",
   "execution_count": null,
   "id": "d9361497-785c-44dd-ad0b-7f494e60d9d9",
   "metadata": {},
   "outputs": [],
   "source": [
    "# Calculates the difference beyween last price of year and last price of next year\n",
    "year_end_price.fillna({'Yearly Return': 0})"
   ]
  },
  {
   "cell_type": "code",
   "execution_count": null,
   "id": "313fdc86-5c64-4d28-a886-81c16710f1eb",
   "metadata": {},
   "outputs": [],
   "source": [
    "year_end_price['Cumulative Return'] = (1 + year_end_price['Yearly Return']).cumprod()\n",
    "year_end_price['Cumulative Return'] = year_end_price['Cumulative Return'] - 1 "
   ]
  },
  {
   "cell_type": "code",
   "execution_count": null,
   "id": "370e1e96-c6d3-4697-a35f-fe8c69728193",
   "metadata": {},
   "outputs": [],
   "source": [
    "year_end_price"
   ]
  },
  {
   "cell_type": "code",
   "execution_count": null,
   "id": "ace3fe20-0d0d-4cb3-b20d-0066d7dddbbe",
   "metadata": {},
   "outputs": [],
   "source": []
  }
 ],
 "metadata": {
  "kernelspec": {
   "display_name": "Python 3 (ipykernel)",
   "language": "python",
   "name": "python3"
  },
  "language_info": {
   "codemirror_mode": {
    "name": "ipython",
    "version": 3
   },
   "file_extension": ".py",
   "mimetype": "text/x-python",
   "name": "python",
   "nbconvert_exporter": "python",
   "pygments_lexer": "ipython3",
   "version": "3.12.2"
  }
 },
 "nbformat": 4,
 "nbformat_minor": 5
}
