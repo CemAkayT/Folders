{
 "cells": [
  {
   "cell_type": "markdown",
   "metadata": {
    "tags": []
   },
   "source": [
    "## LinkedIn Course \n",
    "### Python for Data Science and Machine Learning Essential Training\n",
    "### https://www.linkedin.com/learning/python-for-data-science-and-machine-learning-essential-training-part-1/what-you-should-know?autoSkip=true&resume=false&u=36836804"
   ]
  },
  {
   "cell_type": "markdown",
   "metadata": {},
   "source": [
    "## Steps of Data Preperation\n",
    "1. Importing Data\n",
    "2. Cleaning Data\n",
    "3. Transforming Data\n",
    "4. Processing Data\n",
    "5. Logging Data\n",
    "6. Backing Up Data"
   ]
  },
  {
   "cell_type": "markdown",
   "metadata": {},
   "source": [
    "## Import Data\n",
    "* Load Data"
   ]
  },
  {
   "cell_type": "code",
   "execution_count": 2,
   "metadata": {},
   "outputs": [],
   "source": [
    "import pandas as pd\n",
    "import chardet\n",
    "\n",
    "# detect the encoding\n",
    "with open('Superstore-Sales.csv', 'rb') as f:\n",
    "    result = chardet.detect(f.read())\n",
    "    \n",
    "# read the file with the detected encoding\n",
    "df = pd.read_csv('Superstore-Sales.csv', encoding=result['encoding'])"
   ]
  },
  {
   "cell_type": "markdown",
   "metadata": {},
   "source": [
    "## Cleaning Data\n",
    "* Removing duplicates\n",
    "* Removing out of range records\n",
    "* Removing stray characters\n",
    "* Standardizing casing"
   ]
  },
  {
   "cell_type": "markdown",
   "metadata": {},
   "source": [
    "## Transforming Data\n",
    "* Treating missing values\n",
    "* Scaling and Normalizing variables\n",
    "1. Scaling is about minimizing differing magnitudes of variables\n",
    "2. Scaling is about preparing your data for machine learning\n",
    "\n",
    "### 2 ways to scale data\n",
    "1. Normalization: putting each observation on a relative scale between values of 0 and 1. Calculation is : Value of observation/ sum of all observations\n",
    "2. Standardization: rescalling data so that is has a zero mean and unit variance"
   ]
  },
  {
   "cell_type": "markdown",
   "metadata": {},
   "source": [
    "## Processing Data\n",
    "1. Parsing data\n",
    "2. Recoding data\n",
    "3. Reformatting data"
   ]
  },
  {
   "cell_type": "markdown",
   "metadata": {},
   "source": [
    "## Logging Data\n",
    "1. Generative Desciptive Statistics\n",
    "2. Logging Variable Information\n",
    "3. Storing Variable Information"
   ]
  },
  {
   "cell_type": "markdown",
   "metadata": {},
   "source": [
    "## Backing Up Data\n",
    "1. Create a Backup Copy\n",
    "2. Begin Analysis of Data"
   ]
  }
 ],
 "metadata": {
  "kernelspec": {
   "display_name": "Python 3 (ipykernel)",
   "language": "python",
   "name": "python3"
  },
  "language_info": {
   "codemirror_mode": {
    "name": "ipython",
    "version": 3
   },
   "file_extension": ".py",
   "mimetype": "text/x-python",
   "name": "python",
   "nbconvert_exporter": "python",
   "pygments_lexer": "ipython3",
   "version": "3.11.7"
  }
 },
 "nbformat": 4,
 "nbformat_minor": 4
}
