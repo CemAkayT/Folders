{
 "cells": [
  {
   "cell_type": "markdown",
   "metadata": {},
   "source": [
    "## LinkedIn Course \n",
    "### * Python for Data Science and Machine Learning Essential Training\n",
    "### * https://www.linkedin.com/learning/python-for-data-science-and-machine-learning-essential-training-part-1/what-you-should-know?autoSkip=true&resume=false&u=36836804"
   ]
  },
  {
   "cell_type": "code",
   "execution_count": null,
   "metadata": {},
   "outputs": [],
   "source": []
  }
 ],
 "metadata": {
  "language_info": {
   "name": "python"
  }
 },
 "nbformat": 4,
 "nbformat_minor": 2
}
