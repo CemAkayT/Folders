{
 "cells": [
  {
   "cell_type": "code",
   "execution_count": null,
   "id": "bd2c31e3-e94e-4f3f-b529-a69834ca8ef4",
   "metadata": {},
   "outputs": [],
   "source": [
    "import pandas as pd\n",
    "import numpy as np\n",
    "import matplotlib.pyplot as plt\n",
    "#%matplotlib qt\n",
    "penguins = pd.DataFrame({'Species':['Adelie', 'Chinstrap', 'Gentoo'],\n",
    "                     'Bill Depth':(18.35, 18.43, 14.98),\n",
    "                     'Bill Length':(38.79, 48.83, 47.50),\n",
    "                     'Flipper Length':(189.95, 195.82, 217.19)},\n",
    "                    index=('a', 'b', 'c'))\n",
    "\n",
    "species = penguins['Species'] # species column\n",
    "x = np.arange(len(penguins['Species']))\n",
    "y = penguins.iloc[ : , 1:] # attribute columns\n",
    "\n",
    "width = 0.25\n",
    "multiplier = 0\n",
    "\n",
    "fig, ax = plt.subplots(layout='constrained')\n",
    "\n",
    "for attribute, measurement in y.items():\n",
    "    offset = width * multiplier\n",
    "    rects = ax.bar(x + offset, measurement, width, label=attribute)\n",
    "    ax.bar_label(rects, padding=-15)\n",
    "    multiplier += 1\n",
    "\n",
    "ax.set_ylabel('Lenght (mm)')\n",
    "ax.set_title('Penguin attributes by Species')\n",
    "ax.set_xticks(x + width)\n",
    "ax.set_xticklabels(species)\n",
    "ax.legend(loc='upper left', ncols=1, frameon=False) # num of cols for the legend\n",
    "ax.set_ylim(0,250)\n",
    "ax.set_xlim(-0.15,2.65)\n",
    "ax.grid()\n",
    "plt.show()"
   ]
  },
  {
   "cell_type": "code",
   "execution_count": null,
   "id": "a8d196fa",
   "metadata": {},
   "outputs": [],
   "source": [
    "import plotly.express as px\n",
    "fig = px.bar(penguins, x='Species', y=penguins.columns.values, barmode='group',text_auto=True, title='Penguins by Attributes')\n",
    "fig.show()"
   ]
  },
  {
   "cell_type": "code",
   "execution_count": null,
   "id": "812d8097",
   "metadata": {},
   "outputs": [],
   "source": [
    "penguins"
   ]
  },
  {
   "cell_type": "code",
   "execution_count": null,
   "id": "3e8341b0",
   "metadata": {},
   "outputs": [],
   "source": [
    "!pip install matplotlib"
   ]
  },
  {
   "cell_type": "code",
   "execution_count": null,
   "id": "eeafd8af",
   "metadata": {},
   "outputs": [],
   "source": []
  }
 ],
 "metadata": {
  "kernelspec": {
   "display_name": "Python 3 (ipykernel)",
   "language": "python",
   "name": "python3"
  },
  "language_info": {
   "codemirror_mode": {
    "name": "ipython",
    "version": 3
   },
   "file_extension": ".py",
   "mimetype": "text/x-python",
   "name": "python",
   "nbconvert_exporter": "python",
   "pygments_lexer": "ipython3",
   "version": "3.12.2"
  }
 },
 "nbformat": 4,
 "nbformat_minor": 5
}
