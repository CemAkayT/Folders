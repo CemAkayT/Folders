{
 "cells": [
  {
   "cell_type": "code",
   "execution_count": 15,
   "id": "448a738a-3a7b-46aa-acc0-b77e4da2ec84",
   "metadata": {},
   "outputs": [],
   "source": [
    "import pandas as pd\n",
    "import math"
   ]
  },
  {
   "cell_type": "code",
   "execution_count": 16,
   "id": "be43e713-d2dd-44bb-b7d7-b958cc3a432b",
   "metadata": {},
   "outputs": [],
   "source": [
    "data = [17000, 0, 0, 25000, 45000, 6000, 0, 8000]"
   ]
  },
  {
   "cell_type": "code",
   "execution_count": 3,
   "id": "f4e946f3-c7f9-4be3-bcec-7f8cfeaffc68",
   "metadata": {},
   "outputs": [],
   "source": [
    "df = pd.DataFrame(data)"
   ]
  },
  {
   "cell_type": "code",
   "execution_count": 17,
   "id": "227d5a30-2ab2-4286-b291-99f53b4245ad",
   "metadata": {},
   "outputs": [
    {
     "name": "stdout",
     "output_type": "stream",
     "text": [
      "Mean of dataset:  12625.0\n",
      "Lenght of dataset:  8\n"
     ]
    }
   ],
   "source": [
    "mean = sum(data) / len(data)\n",
    "print(f'Mean of dataset: ', mean)\n",
    "print(f'Lenght of dataset: ',len(data))\n"
   ]
  },
  {
   "cell_type": "code",
   "execution_count": 29,
   "id": "9d13e292-b68e-4117-a9ec-c902d6dae244",
   "metadata": {},
   "outputs": [
    {
     "data": {
      "text/plain": [
       "[19140625.0,\n",
       " 159390625.0,\n",
       " 159390625.0,\n",
       " 153140625.0,\n",
       " 1048140625.0,\n",
       " 43890625.0,\n",
       " 159390625.0,\n",
       " 21390625.0]"
      ]
     },
     "execution_count": 29,
     "metadata": {},
     "output_type": "execute_result"
    }
   ],
   "source": [
    "# calculate the deviations of each data point from the mean, and square it \n",
    "squared_diff = [pow(x - mean,2) for x in data]\n",
    "squared_diff"
   ]
  },
  {
   "cell_type": "code",
   "execution_count": 27,
   "id": "3c8fab46-db37-4d15-abb0-b7e6adc77d6d",
   "metadata": {},
   "outputs": [
    {
     "data": {
      "text/plain": [
       "1763875000.0"
      ]
     },
     "execution_count": 27,
     "metadata": {},
     "output_type": "execute_result"
    }
   ],
   "source": [
    "count_deviations = 0\n",
    "for i in data:\n",
    "    count_deviations += (pow(i - mean,2))\n",
    "    i\n",
    "count_deviations"
   ]
  },
  {
   "cell_type": "code",
   "execution_count": 30,
   "id": "bd0355e8-ff27-425a-a252-f783873bb560",
   "metadata": {},
   "outputs": [
    {
     "data": {
      "text/plain": [
       "220484375.0"
      ]
     },
     "execution_count": 30,
     "metadata": {},
     "output_type": "execute_result"
    }
   ],
   "source": [
    "# calculate variance. It is the mean of all the deviations divided by number og data points\n",
    "variance = count_deviations / len(data)\n",
    "variance"
   ]
  },
  {
   "cell_type": "code",
   "execution_count": 31,
   "id": "1caf4656-1ee3-49e0-9ea1-b8b3ec0ce4e7",
   "metadata": {},
   "outputs": [
    {
     "data": {
      "text/plain": [
       "14848.716274479757"
      ]
     },
     "execution_count": 31,
     "metadata": {},
     "output_type": "execute_result"
    }
   ],
   "source": [
    "#calculate the standard deviation from the mean. It is the square root of variance\n",
    "# std dev indicate how much each individual data point deviates from the main. \n",
    "# larger deviation indicates greater difference between the salaries\n",
    "std_dev = math.sqrt(variance)\n",
    "std_dev"
   ]
  },
  {
   "cell_type": "code",
   "execution_count": null,
   "id": "529b84bc-9964-4f22-b29f-2b355f530871",
   "metadata": {},
   "outputs": [],
   "source": []
  }
 ],
 "metadata": {
  "kernelspec": {
   "display_name": "Python 3 (ipykernel)",
   "language": "python",
   "name": "python3"
  },
  "language_info": {
   "codemirror_mode": {
    "name": "ipython",
    "version": 3
   },
   "file_extension": ".py",
   "mimetype": "text/x-python",
   "name": "python",
   "nbconvert_exporter": "python",
   "pygments_lexer": "ipython3",
   "version": "3.12.2"
  }
 },
 "nbformat": 4,
 "nbformat_minor": 5
}
