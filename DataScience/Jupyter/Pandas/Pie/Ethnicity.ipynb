{
 "cells": [
  {
   "cell_type": "code",
   "execution_count": 1,
   "id": "dbe6bc23-605e-4a1b-bf23-f502ac007ee7",
   "metadata": {},
   "outputs": [],
   "source": [
    "import pandas as pd\n",
    "import matplotlib.pyplot as plt\n",
    "path = '/Users/cemakay/Data/Employee Sample Data.xlsx'\n",
    "df = pd.read_excel(path).convert_dtypes()"
   ]
  },
  {
   "cell_type": "code",
   "execution_count": 2,
   "id": "80b4af33-fc16-4104-b701-0a24b9f8ec6e",
   "metadata": {},
   "outputs": [
    {
     "data": {
      "text/html": [
       "<div>\n",
       "<style scoped>\n",
       "    .dataframe tbody tr th:only-of-type {\n",
       "        vertical-align: middle;\n",
       "    }\n",
       "\n",
       "    .dataframe tbody tr th {\n",
       "        vertical-align: top;\n",
       "    }\n",
       "\n",
       "    .dataframe thead th {\n",
       "        text-align: right;\n",
       "    }\n",
       "</style>\n",
       "<table border=\"1\" class=\"dataframe\">\n",
       "  <thead>\n",
       "    <tr style=\"text-align: right;\">\n",
       "      <th></th>\n",
       "      <th>EEID</th>\n",
       "      <th>Full Name</th>\n",
       "      <th>Job Title</th>\n",
       "      <th>Department</th>\n",
       "      <th>Business Unit</th>\n",
       "      <th>Gender</th>\n",
       "      <th>Ethnicity</th>\n",
       "      <th>Age</th>\n",
       "      <th>Hire Date</th>\n",
       "      <th>Annual Salary</th>\n",
       "      <th>Bonus %</th>\n",
       "      <th>Country</th>\n",
       "      <th>City</th>\n",
       "      <th>Exit Date</th>\n",
       "    </tr>\n",
       "  </thead>\n",
       "  <tbody>\n",
       "    <tr>\n",
       "      <th>0</th>\n",
       "      <td>E02387</td>\n",
       "      <td>Emily Davis</td>\n",
       "      <td>Sr. Manger</td>\n",
       "      <td>IT</td>\n",
       "      <td>Research &amp; Development</td>\n",
       "      <td>Female</td>\n",
       "      <td>Black</td>\n",
       "      <td>55</td>\n",
       "      <td>2016-04-08</td>\n",
       "      <td>141604</td>\n",
       "      <td>0.15</td>\n",
       "      <td>United States</td>\n",
       "      <td>Seattle</td>\n",
       "      <td>2021-10-16</td>\n",
       "    </tr>\n",
       "    <tr>\n",
       "      <th>1</th>\n",
       "      <td>E04105</td>\n",
       "      <td>Theodore Dinh</td>\n",
       "      <td>Technical Architect</td>\n",
       "      <td>IT</td>\n",
       "      <td>Manufacturing</td>\n",
       "      <td>Male</td>\n",
       "      <td>Asian</td>\n",
       "      <td>59</td>\n",
       "      <td>1997-11-29</td>\n",
       "      <td>99975</td>\n",
       "      <td>0.0</td>\n",
       "      <td>China</td>\n",
       "      <td>Chongqing</td>\n",
       "      <td>NaT</td>\n",
       "    </tr>\n",
       "    <tr>\n",
       "      <th>2</th>\n",
       "      <td>E02572</td>\n",
       "      <td>Luna Sanders</td>\n",
       "      <td>Director</td>\n",
       "      <td>Finance</td>\n",
       "      <td>Speciality Products</td>\n",
       "      <td>Female</td>\n",
       "      <td>Caucasian</td>\n",
       "      <td>50</td>\n",
       "      <td>2006-10-26</td>\n",
       "      <td>163099</td>\n",
       "      <td>0.2</td>\n",
       "      <td>United States</td>\n",
       "      <td>Chicago</td>\n",
       "      <td>NaT</td>\n",
       "    </tr>\n",
       "    <tr>\n",
       "      <th>3</th>\n",
       "      <td>E02832</td>\n",
       "      <td>Penelope Jordan</td>\n",
       "      <td>Computer Systems Manager</td>\n",
       "      <td>IT</td>\n",
       "      <td>Manufacturing</td>\n",
       "      <td>Female</td>\n",
       "      <td>Caucasian</td>\n",
       "      <td>26</td>\n",
       "      <td>2019-09-27</td>\n",
       "      <td>84913</td>\n",
       "      <td>0.07</td>\n",
       "      <td>United States</td>\n",
       "      <td>Chicago</td>\n",
       "      <td>NaT</td>\n",
       "    </tr>\n",
       "    <tr>\n",
       "      <th>4</th>\n",
       "      <td>E01639</td>\n",
       "      <td>Austin Vo</td>\n",
       "      <td>Sr. Analyst</td>\n",
       "      <td>Finance</td>\n",
       "      <td>Manufacturing</td>\n",
       "      <td>Male</td>\n",
       "      <td>Asian</td>\n",
       "      <td>55</td>\n",
       "      <td>1995-11-20</td>\n",
       "      <td>95409</td>\n",
       "      <td>0.0</td>\n",
       "      <td>United States</td>\n",
       "      <td>Phoenix</td>\n",
       "      <td>NaT</td>\n",
       "    </tr>\n",
       "  </tbody>\n",
       "</table>\n",
       "</div>"
      ],
      "text/plain": [
       "     EEID        Full Name                 Job Title Department  \\\n",
       "0  E02387      Emily Davis                Sr. Manger         IT   \n",
       "1  E04105    Theodore Dinh       Technical Architect         IT   \n",
       "2  E02572     Luna Sanders                  Director    Finance   \n",
       "3  E02832  Penelope Jordan  Computer Systems Manager         IT   \n",
       "4  E01639        Austin Vo               Sr. Analyst    Finance   \n",
       "\n",
       "            Business Unit  Gender  Ethnicity  Age  Hire Date  Annual Salary  \\\n",
       "0  Research & Development  Female      Black   55 2016-04-08         141604   \n",
       "1           Manufacturing    Male      Asian   59 1997-11-29          99975   \n",
       "2     Speciality Products  Female  Caucasian   50 2006-10-26         163099   \n",
       "3           Manufacturing  Female  Caucasian   26 2019-09-27          84913   \n",
       "4           Manufacturing    Male      Asian   55 1995-11-20          95409   \n",
       "\n",
       "   Bonus %        Country       City  Exit Date  \n",
       "0     0.15  United States    Seattle 2021-10-16  \n",
       "1      0.0          China  Chongqing        NaT  \n",
       "2      0.2  United States    Chicago        NaT  \n",
       "3     0.07  United States    Chicago        NaT  \n",
       "4      0.0  United States    Phoenix        NaT  "
      ]
     },
     "execution_count": 2,
     "metadata": {},
     "output_type": "execute_result"
    }
   ],
   "source": [
    "df.head()"
   ]
  },
  {
   "cell_type": "code",
   "execution_count": 3,
   "id": "9abd9bf3-f815-4880-a757-e02201b358c4",
   "metadata": {},
   "outputs": [
    {
     "name": "stdout",
     "output_type": "stream",
     "text": [
      "<class 'pandas.core.frame.DataFrame'>\n",
      "RangeIndex: 1000 entries, 0 to 999\n",
      "Data columns (total 13 columns):\n",
      " #   Column         Non-Null Count  Dtype         \n",
      "---  ------         --------------  -----         \n",
      " 0   Full Name      1000 non-null   string        \n",
      " 1   Job Title      1000 non-null   string        \n",
      " 2   Department     1000 non-null   string        \n",
      " 3   Business Unit  1000 non-null   string        \n",
      " 4   Gender         1000 non-null   string        \n",
      " 5   Ethnicity      1000 non-null   string        \n",
      " 6   Age            1000 non-null   Int64         \n",
      " 7   Hire Date      1000 non-null   datetime64[ns]\n",
      " 8   Annual Salary  1000 non-null   Int64         \n",
      " 9   Bonus %        1000 non-null   Float64       \n",
      " 10  Country        1000 non-null   string        \n",
      " 11  City           1000 non-null   string        \n",
      " 12  Exit Date      85 non-null     datetime64[ns]\n",
      "dtypes: Float64(1), Int64(2), datetime64[ns](2), string(8)\n",
      "memory usage: 104.6 KB\n"
     ]
    }
   ],
   "source": [
    "df = df.iloc[ : , 1:]\n",
    "df.info()"
   ]
  },
  {
   "cell_type": "code",
   "execution_count": 4,
   "id": "d55361ad-02b8-4b69-85f0-75aba13a10f6",
   "metadata": {},
   "outputs": [
    {
     "name": "stdout",
     "output_type": "stream",
     "text": [
      "<class 'pandas.core.frame.DataFrame'>\n",
      "Index: 915 entries, 1 to 999\n",
      "Data columns (total 13 columns):\n",
      " #   Column         Non-Null Count  Dtype         \n",
      "---  ------         --------------  -----         \n",
      " 0   Full Name      915 non-null    string        \n",
      " 1   Job Title      915 non-null    string        \n",
      " 2   Department     915 non-null    string        \n",
      " 3   Business Unit  915 non-null    string        \n",
      " 4   Gender         915 non-null    string        \n",
      " 5   Ethnicity      915 non-null    string        \n",
      " 6   Age            915 non-null    Int64         \n",
      " 7   Hire Date      915 non-null    datetime64[ns]\n",
      " 8   Annual Salary  915 non-null    Int64         \n",
      " 9   Bonus %        915 non-null    Float64       \n",
      " 10  Country        915 non-null    string        \n",
      " 11  City           915 non-null    string        \n",
      " 12  Exit Date      0 non-null      datetime64[ns]\n",
      "dtypes: Float64(1), Int64(2), datetime64[ns](2), string(8)\n",
      "memory usage: 102.8 KB\n"
     ]
    }
   ],
   "source": [
    "df = df[df['Exit Date'].isna()]\n",
    "# If you want to reset the indexes to make them contiguous\n",
    "df.info()"
   ]
  },
  {
   "cell_type": "code",
   "execution_count": 5,
   "id": "cf3ff1e5-0bb4-4317-9703-99c98af05095",
   "metadata": {},
   "outputs": [
    {
     "data": {
      "text/plain": [
       "Full Name          0\n",
       "Job Title          0\n",
       "Department         0\n",
       "Business Unit      0\n",
       "Gender             0\n",
       "Ethnicity          0\n",
       "Age                0\n",
       "Hire Date          0\n",
       "Annual Salary      0\n",
       "Bonus %            0\n",
       "Country            0\n",
       "City               0\n",
       "Exit Date        915\n",
       "dtype: int64"
      ]
     },
     "execution_count": 5,
     "metadata": {},
     "output_type": "execute_result"
    }
   ],
   "source": [
    "df.isnull().sum()"
   ]
  },
  {
   "cell_type": "code",
   "execution_count": 36,
   "id": "24408b54-151e-4b02-b3af-5c63d1afa5c1",
   "metadata": {},
   "outputs": [
    {
     "data": {
      "image/png": "[encoded data removed]",
      "text/plain": [
       "<Figure size 1200x480 with 1 Axes>"
      ]
     },
     "metadata": {},
     "output_type": "display_data"
    }
   ],
   "source": [
    "eth = df['Ethnicity'].value_counts()\n",
    "x = eth.index\n",
    "y = eth.values\n",
    "\n",
    "fig, ax = plt.subplots()\n",
    "ax.pie(y,labels=x, autopct='%1.1f%%', explode=[.01,.01,.01,.3])\n",
    "fig.set_figwidth(12)\n",
    "ax.set_title('ETHNICITY', fontsize=12, fontweight='bold', y=1, loc='center')\n",
    "ax.legend(title= 'Ethnicity :', loc='upper right', bbox_to_anchor=(1.55, 1.1), ncols=1)\n",
    "plt.show()\n"
   ]
  },
  {
   "cell_type": "code",
   "execution_count": 30,
   "id": "28ea40dc-b5f6-44a7-a076-e5e8e5edf850",
   "metadata": {},
   "outputs": [
    {
     "data": {
      "text/plain": [
       "Ethnicity\n",
       "Asian        366\n",
       "Caucasian    252\n",
       "Latino       233\n",
       "Black         64\n",
       "Name: count, dtype: Int64"
      ]
     },
     "execution_count": 30,
     "metadata": {},
     "output_type": "execute_result"
    }
   ],
   "source": [
    "eth"
   ]
  },
  {
   "cell_type": "code",
   "execution_count": null,
   "id": "5b81b8d4-09db-47f7-ad2c-84e801015148",
   "metadata": {},
   "outputs": [],
   "source": []
  }
 ],
 "metadata": {
  "kernelspec": {
   "display_name": "Python 3 (ipykernel)",
   "language": "python",
   "name": "python3"
  },
  "language_info": {
   "codemirror_mode": {
    "name": "ipython",
    "version": 3
   },
   "file_extension": ".py",
   "mimetype": "text/x-python",
   "name": "python",
   "nbconvert_exporter": "python",
   "pygments_lexer": "ipython3",
   "version": "3.12.2"
  }
 },
 "nbformat": 4,
 "nbformat_minor": 5
}
