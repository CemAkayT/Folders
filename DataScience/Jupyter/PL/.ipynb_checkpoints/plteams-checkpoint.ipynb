{
 "cells": [
  {
   "cell_type": "code",
   "execution_count": 11,
   "id": "3d84496b-c678-4d61-b1d8-5aedafe1c187",
   "metadata": {},
   "outputs": [],
   "source": [
    "import pandas as pd\n",
    "import numpy as np\n",
    "#%matplotlib qt"
   ]
  },
  {
   "cell_type": "code",
   "execution_count": 12,
   "id": "7f7b0244-7b57-465d-b083-83c90b768829",
   "metadata": {},
   "outputs": [],
   "source": [
    "x = ['Liverpool', 'Arsenal', 'Man City', 'Aston Villa', 'Tottenham', 'Man United', \n",
    "          'West Ham', 'Newcastle', 'Brighton', 'Chelsea', 'Wolves', 'Bournemouth', 'Fulham', \n",
    "          'Crystal Palace', 'Brentford', 'Everton', 'N.Forest', 'Luton', 'Burnley', 'Sheffield United']\n",
    "\n",
    "matchday = np.random.randint(50, 350, 20)\n",
    "broadcast = np.random.randint(50, 450, 20)\n",
    "commercial = np.random.randint(50, 250, 20)\n",
    "total = matchday + broadcast + commercial\n",
    "\n",
    "y = {'Matchday': matchday,\n",
    "     'Broadcast': broadcast,\n",
    "     'Commercial': commercial,\n",
    "     'Total': total}"
   ]
  },
  {
   "cell_type": "code",
   "execution_count": 13,
   "id": "b62365a0-6281-43c7-b2dc-ab2c6f90959d",
   "metadata": {},
   "outputs": [],
   "source": [
    "df = pd.DataFrame(data=y, index=x).convert_dtypes().sort_index(ascending=True)"
   ]
  },
  {
   "cell_type": "code",
   "execution_count": 14,
   "id": "3d447d1c-d949-4ea9-b087-a9a8df5535d8",
   "metadata": {},
   "outputs": [],
   "source": [
    "comsmall = df.nsmallest(df.shape[0], 'Commercial')\n",
    "comy = comsmall.iloc[: , -2]\n",
    "comx = comsmall.index"
   ]
  },
  {
   "cell_type": "code",
   "execution_count": 15,
   "id": "eadd1d87-44b5-4c99-9240-7ec3bafe50f6",
   "metadata": {},
   "outputs": [],
   "source": [
    "import matplotlib.pyplot as plt\n",
    "fig, ax = plt.subplots(figsize=(12,5))\n",
    "\n",
    "\n",
    "c = ax.bar(comx, comy, label=comsmall.columns[-2], zorder=2, alpha=.8)\n",
    "ax.bar_label(c, padding=-13)\n",
    "ax.set_xticks(comx)\n",
    "ax.set_xticklabels(comx, rotation=90)\n",
    "ax.set_ylabel('Revenue 2023', rotation=90, fontweight='bold', fontsize=12)\n",
    "ax.set_xlabel('Clubs', fontweight='bold', fontsize=12)\n",
    "ax.legend(frameon=False)\n",
    "ax.set_title('Commercial for 2023\\n£ Millions\\n', loc='left', fontweight='bold', fontsize=16)\n",
    "ax.set_xlim(-0.5 , 19.5)\n",
    "ax.grid()\n",
    "plt.subplots_adjust(top=0.879, bottom=0.212, left=0.051, right=0.99, hspace=0.2, wspace=0.2)\n",
    "plt.show()"
   ]
  },
  {
   "cell_type": "code",
   "execution_count": null,
   "id": "8abc1f5a-8088-4930-ac18-5272fe68456f",
   "metadata": {},
   "outputs": [],
   "source": []
  },
  {
   "cell_type": "code",
   "execution_count": null,
   "id": "d118d241",
   "metadata": {},
   "outputs": [],
   "source": []
  }
 ],
 "metadata": {
  "kernelspec": {
   "display_name": "Python 3 (ipykernel)",
   "language": "python",
   "name": "python3"
  },
  "language_info": {
   "codemirror_mode": {
    "name": "ipython",
    "version": 3
   },
   "file_extension": ".py",
   "mimetype": "text/x-python",
   "name": "python",
   "nbconvert_exporter": "python",
   "pygments_lexer": "ipython3",
   "version": "3.11.7"
  }
 },
 "nbformat": 4,
 "nbformat_minor": 5
}
