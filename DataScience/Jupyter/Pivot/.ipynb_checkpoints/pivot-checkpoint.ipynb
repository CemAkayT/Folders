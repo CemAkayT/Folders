{
 "cells": [
  {
   "cell_type": "code",
   "execution_count": null,
   "metadata": {},
   "outputs": [],
   "source": [
    "import pandas as pd\n",
    "import numpy as np\n",
    "\n",
    "index = np.arange(5,9)\n",
    "date = ['2024-01-01', '2024-01-01', '2024-01-02', '2024-01-02']\n",
    "category = ['A', 'B', 'A', 'B']\n",
    "values = np.random.randint(10,100,4)\n",
    "data = {'Date': date,\n",
    "        'Category': category,\n",
    "        'Value': values}\n",
    "df = pd.DataFrame(data, index=index)\n",
    "print(df)\n",
    "\n",
    "dfpivot = pd.pivot_table(df, values='Value', index='Date', columns='Category', aggfunc='mean', margins=True, margins_name='I Alt')"
   ]
  },
  {
   "cell_type": "code",
   "execution_count": null,
   "metadata": {},
   "outputs": [],
   "source": [
    "dfpivot"
   ]
  },
  {
   "cell_type": "code",
   "execution_count": null,
   "metadata": {},
   "outputs": [],
   "source": [
    "dfpivot[dfpivot.columns[:-1]].plot(kind='bar');"
   ]
  },
  {
   "cell_type": "code",
   "execution_count": null,
   "metadata": {},
   "outputs": [],
   "source": [
    "import plotly_express as px\n",
    "fig = px.bar(dfpivot,\n",
    "             x=dfpivot.index,\n",
    "             y=['A', 'B'],\n",
    "             barmode='group',\n",
    "             width=500,\n",
    "             height=500\n",
    "             )\n",
    "\n",
    "fig.show()"
   ]
  },
  {
   "cell_type": "code",
   "execution_count": null,
   "metadata": {},
   "outputs": [],
   "source": []
  }
 ],
 "metadata": {
  "kernelspec": {
   "display_name": ".venv",
   "language": "python",
   "name": "python3"
  },
  "language_info": {
   "codemirror_mode": {
    "name": "ipython",
    "version": 3
   },
   "file_extension": ".py",
   "mimetype": "text/x-python",
   "name": "python",
   "nbconvert_exporter": "python",
   "pygments_lexer": "ipython3",
   "version": "3.12.2"
  }
 },
 "nbformat": 4,
 "nbformat_minor": 2
}
